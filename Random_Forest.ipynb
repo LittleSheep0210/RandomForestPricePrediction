{
 "cells": [
  {
   "cell_type": "code",
   "execution_count": 1,
   "metadata": {
    "collapsed": true
   },
   "outputs": [],
   "source": [
    "import numpy as np\n",
    "import pandas as pd\n",
    "import matplotlib.pyplot as plt"
   ]
  },
  {
   "cell_type": "code",
   "execution_count": 2,
   "metadata": {
    "collapsed": true
   },
   "outputs": [],
   "source": [
    "train = pd.read_csv('train.csv')       \n",
    "test = pd.read_csv('test.csv')"
   ]
  },
  {
   "cell_type": "code",
   "execution_count": 3,
   "metadata": {
    "collapsed": true
   },
   "outputs": [],
   "source": [
    "train = train.drop('Id', axis=1)                \n",
    "test = test.drop('Id', axis=1)"
   ]
  },
  {
   "cell_type": "code",
   "execution_count": 4,
   "metadata": {
    "collapsed": false
   },
   "outputs": [],
   "source": [
    "na_count = train.isnull().sum().sort_values(ascending=False) "
   ]
  },
  {
   "cell_type": "code",
   "execution_count": 5,
   "metadata": {
    "collapsed": false
   },
   "outputs": [],
   "source": [
    "na_rate = na_count/train.shape[0]\n"
   ]
  },
  {
   "cell_type": "code",
   "execution_count": 6,
   "metadata": {
    "collapsed": true
   },
   "outputs": [],
   "source": [
    "na_data = pd.concat([na_count,na_rate],axis=1,keys=['count','ratio']) "
   ]
  },
  {
   "cell_type": "code",
   "execution_count": 7,
   "metadata": {
    "collapsed": false
   },
   "outputs": [
    {
     "data": {
      "text/html": [
       "<div>\n",
       "<table border=\"1\" class=\"dataframe\">\n",
       "  <thead>\n",
       "    <tr style=\"text-align: right;\">\n",
       "      <th></th>\n",
       "      <th>count</th>\n",
       "      <th>ratio</th>\n",
       "    </tr>\n",
       "  </thead>\n",
       "  <tbody>\n",
       "    <tr>\n",
       "      <th>PoolQC</th>\n",
       "      <td>1453</td>\n",
       "      <td>0.995205</td>\n",
       "    </tr>\n",
       "    <tr>\n",
       "      <th>MiscFeature</th>\n",
       "      <td>1406</td>\n",
       "      <td>0.963014</td>\n",
       "    </tr>\n",
       "    <tr>\n",
       "      <th>Alley</th>\n",
       "      <td>1369</td>\n",
       "      <td>0.937671</td>\n",
       "    </tr>\n",
       "    <tr>\n",
       "      <th>Fence</th>\n",
       "      <td>1179</td>\n",
       "      <td>0.807534</td>\n",
       "    </tr>\n",
       "    <tr>\n",
       "      <th>FireplaceQu</th>\n",
       "      <td>690</td>\n",
       "      <td>0.472603</td>\n",
       "    </tr>\n",
       "    <tr>\n",
       "      <th>LotFrontage</th>\n",
       "      <td>259</td>\n",
       "      <td>0.177397</td>\n",
       "    </tr>\n",
       "    <tr>\n",
       "      <th>GarageType</th>\n",
       "      <td>81</td>\n",
       "      <td>0.055479</td>\n",
       "    </tr>\n",
       "    <tr>\n",
       "      <th>GarageCond</th>\n",
       "      <td>81</td>\n",
       "      <td>0.055479</td>\n",
       "    </tr>\n",
       "    <tr>\n",
       "      <th>GarageFinish</th>\n",
       "      <td>81</td>\n",
       "      <td>0.055479</td>\n",
       "    </tr>\n",
       "    <tr>\n",
       "      <th>GarageQual</th>\n",
       "      <td>81</td>\n",
       "      <td>0.055479</td>\n",
       "    </tr>\n",
       "    <tr>\n",
       "      <th>GarageYrBlt</th>\n",
       "      <td>81</td>\n",
       "      <td>0.055479</td>\n",
       "    </tr>\n",
       "    <tr>\n",
       "      <th>BsmtFinType2</th>\n",
       "      <td>38</td>\n",
       "      <td>0.026027</td>\n",
       "    </tr>\n",
       "    <tr>\n",
       "      <th>BsmtExposure</th>\n",
       "      <td>38</td>\n",
       "      <td>0.026027</td>\n",
       "    </tr>\n",
       "    <tr>\n",
       "      <th>BsmtQual</th>\n",
       "      <td>37</td>\n",
       "      <td>0.025342</td>\n",
       "    </tr>\n",
       "    <tr>\n",
       "      <th>BsmtCond</th>\n",
       "      <td>37</td>\n",
       "      <td>0.025342</td>\n",
       "    </tr>\n",
       "    <tr>\n",
       "      <th>BsmtFinType1</th>\n",
       "      <td>37</td>\n",
       "      <td>0.025342</td>\n",
       "    </tr>\n",
       "    <tr>\n",
       "      <th>MasVnrArea</th>\n",
       "      <td>8</td>\n",
       "      <td>0.005479</td>\n",
       "    </tr>\n",
       "    <tr>\n",
       "      <th>MasVnrType</th>\n",
       "      <td>8</td>\n",
       "      <td>0.005479</td>\n",
       "    </tr>\n",
       "    <tr>\n",
       "      <th>Electrical</th>\n",
       "      <td>1</td>\n",
       "      <td>0.000685</td>\n",
       "    </tr>\n",
       "  </tbody>\n",
       "</table>\n",
       "</div>"
      ],
      "text/plain": [
       "              count     ratio\n",
       "PoolQC         1453  0.995205\n",
       "MiscFeature    1406  0.963014\n",
       "Alley          1369  0.937671\n",
       "Fence          1179  0.807534\n",
       "FireplaceQu     690  0.472603\n",
       "LotFrontage     259  0.177397\n",
       "GarageType       81  0.055479\n",
       "GarageCond       81  0.055479\n",
       "GarageFinish     81  0.055479\n",
       "GarageQual       81  0.055479\n",
       "GarageYrBlt      81  0.055479\n",
       "BsmtFinType2     38  0.026027\n",
       "BsmtExposure     38  0.026027\n",
       "BsmtQual         37  0.025342\n",
       "BsmtCond         37  0.025342\n",
       "BsmtFinType1     37  0.025342\n",
       "MasVnrArea        8  0.005479\n",
       "MasVnrType        8  0.005479\n",
       "Electrical        1  0.000685"
      ]
     },
     "execution_count": 7,
     "metadata": {},
     "output_type": "execute_result"
    }
   ],
   "source": [
    "na_data[na_data['ratio'] > 0]"
   ]
  },
  {
   "cell_type": "code",
   "execution_count": 8,
   "metadata": {
    "collapsed": false
   },
   "outputs": [],
   "source": [
    "del_miss = na_data[na_data['ratio'] > 0.15].index\n",
    "train = train.drop(del_miss, axis=1)\n",
    "test = test.drop(del_miss, axis=1) "
   ]
  },
  {
   "cell_type": "code",
   "execution_count": 9,
   "metadata": {
    "collapsed": false
   },
   "outputs": [
    {
     "data": {
      "text/plain": [
       "GarageType      81\n",
       "GarageYrBlt     81\n",
       "GarageFinish    81\n",
       "GarageQual      81\n",
       "GarageCond      81\n",
       "BsmtFinType2    38\n",
       "BsmtExposure    38\n",
       "BsmtFinType1    37\n",
       "BsmtCond        37\n",
       "BsmtQual        37\n",
       "MasVnrType       8\n",
       "MasVnrArea       8\n",
       "Electrical       1\n",
       "YearRemodAdd     0\n",
       "ExterQual        0\n",
       "dtype: int64"
      ]
     },
     "execution_count": 9,
     "metadata": {},
     "output_type": "execute_result"
    }
   ],
   "source": [
    "train.isnull().sum().sort_values(ascending=False)[:15]"
   ]
  },
  {
   "cell_type": "code",
   "execution_count": 10,
   "metadata": {
    "collapsed": false
   },
   "outputs": [
    {
     "name": "stdout",
     "output_type": "stream",
     "text": [
      "['MSZoning', 'Street', 'LotShape', 'LandContour', 'Utilities', 'LotConfig', 'LandSlope', 'Neighborhood', 'Condition1', 'Condition2', 'BldgType', 'HouseStyle', 'RoofStyle', 'RoofMatl', 'Exterior1st', 'Exterior2nd', 'MasVnrType', 'ExterQual', 'ExterCond', 'Foundation', 'BsmtQual', 'BsmtCond', 'BsmtExposure', 'BsmtFinType1', 'BsmtFinType2', 'Heating', 'HeatingQC', 'CentralAir', 'Electrical', 'KitchenQual', 'Functional', 'GarageType', 'GarageFinish', 'GarageQual', 'GarageCond', 'PavedDrive', 'SaleType', 'SaleCondition']\n"
     ]
    }
   ],
   "source": [
    "factor = [col for col in train.columns if train[col].dtypes == 'O']\n",
    "print(factor)"
   ]
  },
  {
   "cell_type": "code",
   "execution_count": 11,
   "metadata": {
    "collapsed": false
   },
   "outputs": [
    {
     "name": "stdout",
     "output_type": "stream",
     "text": [
      "['MSSubClass', 'LotArea', 'OverallQual', 'OverallCond', 'YearBuilt', 'YearRemodAdd', 'MasVnrArea', 'BsmtFinSF1', 'BsmtFinSF2', 'BsmtUnfSF', 'TotalBsmtSF', '1stFlrSF', '2ndFlrSF', 'LowQualFinSF', 'GrLivArea', 'BsmtFullBath', 'BsmtHalfBath', 'FullBath', 'HalfBath', 'BedroomAbvGr', 'KitchenAbvGr', 'TotRmsAbvGrd', 'Fireplaces', 'GarageYrBlt', 'GarageCars', 'GarageArea', 'WoodDeckSF', 'OpenPorchSF', 'EnclosedPorch', '3SsnPorch', 'ScreenPorch', 'PoolArea', 'MiscVal', 'MoSold', 'YrSold', 'SalePrice']\n"
     ]
    }
   ],
   "source": [
    "numeric = [col for col in train.columns if train[col].dtypes != 'O']\n",
    "print(numeric)"
   ]
  },
  {
   "cell_type": "code",
   "execution_count": 12,
   "metadata": {
    "collapsed": true
   },
   "outputs": [],
   "source": [
    "from sklearn.preprocessing import Imputer\n",
    "fillna = Imputer(strategy='most_frequent')"
   ]
  },
  {
   "cell_type": "code",
   "execution_count": 13,
   "metadata": {
    "collapsed": true
   },
   "outputs": [],
   "source": [
    "train[numeric] = fillna.fit_transform(train[numeric])\n",
    "test[numeric[:-1]] = fillna.fit_transform(test[numeric[:-1]])"
   ]
  },
  {
   "cell_type": "code",
   "execution_count": 14,
   "metadata": {
    "collapsed": true
   },
   "outputs": [],
   "source": [
    "train[factor] = train[factor].fillna('None')\n",
    "test[factor] = test[factor].fillna('None')"
   ]
  },
  {
   "cell_type": "code",
   "execution_count": 15,
   "metadata": {
    "collapsed": false
   },
   "outputs": [
    {
     "name": "stdout",
     "output_type": "stream",
     "text": [
      "(1460, 74)\n"
     ]
    }
   ],
   "source": [
    "print(train.shape)"
   ]
  },
  {
   "cell_type": "code",
   "execution_count": 16,
   "metadata": {
    "collapsed": false
   },
   "outputs": [
    {
     "name": "stderr",
     "output_type": "stream",
     "text": [
      "/Users/linli/anaconda3/lib/python3.6/site-packages/scipy/stats/_distn_infrastructure.py:875: RuntimeWarning: invalid value encountered in greater\n",
      "  return (self.a < x) & (x < self.b)\n",
      "/Users/linli/anaconda3/lib/python3.6/site-packages/scipy/stats/_distn_infrastructure.py:875: RuntimeWarning: invalid value encountered in less\n",
      "  return (self.a < x) & (x < self.b)\n",
      "/Users/linli/anaconda3/lib/python3.6/site-packages/scipy/stats/_distn_infrastructure.py:1814: RuntimeWarning: invalid value encountered in less_equal\n",
      "  cond2 = cond0 & (x <= self.a)\n"
     ]
    }
   ],
   "source": [
    "from statsmodels.formula.api import ols\n",
    "from statsmodels.stats.anova import anova_lm\n",
    "\n",
    "a = '+'.join(factor)\n",
    "formula = 'SalePrice~ %s' % a\n",
    "anova_results = anova_lm(ols(formula,train).fit())"
   ]
  },
  {
   "cell_type": "code",
   "execution_count": 17,
   "metadata": {
    "collapsed": false,
    "scrolled": true
   },
   "outputs": [
    {
     "name": "stdout",
     "output_type": "stream",
     "text": [
      "                   df        sum_sq       mean_sq           F         PR(>F)\n",
      "Neighborhood     24.0  3.689282e+12  1.537201e+11  135.514069   0.000000e+00\n",
      "MSZoning          4.0  9.904000e+11  2.476000e+11  218.275205  2.481191e-142\n",
      "LotShape          3.0  4.163958e+11  1.387986e+11  122.359837   1.522809e-69\n",
      "ExterQual         3.0  3.672989e+11  1.224330e+11  107.932474   3.442847e-62\n",
      "BldgType          4.0  2.918382e+11  7.295956e+10   64.318505   1.582341e-49\n",
      "BsmtQual          4.0  2.271527e+11  5.678817e+10   50.062399   3.873125e-39\n",
      "Exterior1st      14.0  2.278954e+11  1.627824e+10   14.350310   2.155132e-32\n",
      "RoofMatl          7.0  1.839894e+11  2.628420e+10   23.171198   1.013611e-29\n",
      "RoofStyle         5.0  1.722708e+11  3.445417e+10   30.373546   3.142144e-29\n",
      "MasVnrType        3.0  1.598372e+11  5.327906e+10   46.968891   8.984567e-29\n",
      "BsmtExposure      4.0  1.464528e+11  3.661321e+10   32.276877   1.218240e-25\n",
      "HouseStyle        7.0  1.490079e+11  2.128684e+10   18.765705   6.330314e-24\n",
      "LandContour       3.0  1.296003e+11  4.320009e+10   38.083638   1.474518e-23\n",
      "KitchenQual       3.0  1.189032e+11  3.963441e+10   34.940261   1.085450e-21\n",
      "Foundation        5.0  5.513338e+10  1.102668e+10    9.720719   4.003175e-09\n",
      "Condition1        8.0  5.746562e+10  7.183203e+09    6.332451   4.494898e-08\n",
      "BsmtFinType1      6.0  5.065763e+10  8.442938e+09    7.442988   7.550303e-08\n",
      "Condition2        7.0  5.145090e+10  7.350129e+09    6.479607   1.600862e-07\n",
      "HeatingQC         4.0  3.121242e+10  7.803104e+09    6.878934   1.776915e-05\n",
      "CentralAir        1.0  1.892206e+10  1.892206e+10   16.681001   4.701344e-05\n",
      "Exterior2nd      15.0  5.236315e+10  3.490877e+09    3.077431   6.225559e-05\n",
      "GarageType        6.0  3.172423e+10  5.287372e+09    4.661156   1.067900e-04\n",
      "LotConfig         4.0  2.630036e+10  6.575091e+09    5.796362   1.270486e-04\n",
      "GarageFinish      3.0  1.655754e+10  5.519180e+09    4.865509   2.278171e-03\n",
      "ExterCond         4.0  1.775428e+10  4.438571e+09    3.912884   3.658161e-03\n",
      "Heating           5.0  1.655883e+10  3.311767e+09    2.919534   1.256625e-02\n",
      "LandSlope         2.0  9.348018e+09  4.674009e+09    4.120437   1.645690e-02\n",
      "SaleType          8.0  2.048261e+10  2.560326e+09    2.257091   2.144414e-02\n",
      "GarageCond        5.0  1.490058e+10  2.980116e+09    2.627163   2.261046e-02\n",
      "Utilities         1.0  4.677767e+09  4.677767e+09    4.123750   4.249504e-02\n",
      "GarageQual        5.0  1.121387e+10  2.242774e+09    1.977149   7.933482e-02\n",
      "SaleCondition     5.0  9.755155e+09  1.951031e+09    1.719958   1.270010e-01\n",
      "Functional        6.0  1.078870e+10  1.798116e+09    1.585154   1.478273e-01\n",
      "Street            1.0  8.092688e+08  8.092688e+08    0.713422   3.984706e-01\n",
      "BsmtCond          4.0  3.179998e+09  7.949995e+08    0.700843   5.914051e-01\n",
      "Electrical        5.0  3.152797e+09  6.305595e+08    0.555878   7.339144e-01\n",
      "PavedDrive        2.0  5.300631e+08  2.650316e+08    0.233642   7.916793e-01\n",
      "BsmtFinType2      6.0  3.375359e+09  5.625599e+08    0.495932   8.117528e-01\n",
      "Residual       1259.0  1.428144e+12  1.134348e+09         NaN            NaN\n"
     ]
    }
   ],
   "source": [
    "print(anova_results.sort_values(by='PR(>F)'))   # 查看方差"
   ]
  },
  {
   "cell_type": "code",
   "execution_count": 18,
   "metadata": {
    "collapsed": true
   },
   "outputs": [],
   "source": [
    "del_var = list(anova_results[anova_results['PR(>F)'] > 0.05].index)\n",
    "\n",
    "# 移除变量\n",
    "for each in del_var:\n",
    "    factor.remove(each)\n",
    "\n",
    "# 移除变量数据\n",
    "train = train.drop(del_var, axis=1)\n",
    "test = test.drop(del_var, axis=1)"
   ]
  },
  {
   "cell_type": "code",
   "execution_count": 19,
   "metadata": {
    "collapsed": false
   },
   "outputs": [
    {
     "name": "stdout",
     "output_type": "stream",
     "text": [
      "30\n",
      "(1460, 66)\n",
      "(1459, 65)\n"
     ]
    }
   ],
   "source": [
    "print(len(factor))\n",
    "print(train.shape)\n",
    "print(test.shape)"
   ]
  },
  {
   "cell_type": "code",
   "execution_count": 40,
   "metadata": {
    "collapsed": false
   },
   "outputs": [],
   "source": [
    "def factor_encode(data):\n",
    "    \"\"\"根据名义型变量不同的取值，按照其对应目标变量的均值进行排序，然后进行一个如1、2、3、4的等级编码。\n",
    "\n",
    "        返回转码对应的映射字典，用于转换测试数据。\n",
    "    \"\"\"\n",
    "    map_dict = {}\n",
    "    for each in data.columns[:-1]:\n",
    "        piv = pd.pivot_table(data, values='SalePrice',\n",
    "                             index=each, aggfunc='mean')\n",
    "        piv = piv.sort_values()\n",
    "        idx = piv.index\n",
    "        map_dict[each] = {index:(i+1) for i, index in enumerate(idx)}\n",
    "#         piv['rank'] = np.arange(1, piv.shape[0] + 1)\n",
    "#         map_dict[each] = piv['rank'].to_dict()\n",
    "    return map_dict"
   ]
  },
  {
   "cell_type": "code",
   "execution_count": 22,
   "metadata": {
    "collapsed": false
   },
   "outputs": [],
   "source": [
    "factor.append('SalePrice')"
   ]
  },
  {
   "cell_type": "code",
   "execution_count": 41,
   "metadata": {
    "collapsed": false
   },
   "outputs": [],
   "source": [
    "map_dict = factor_encode(train[factor])"
   ]
  },
  {
   "cell_type": "code",
   "execution_count": 43,
   "metadata": {
    "collapsed": false
   },
   "outputs": [],
   "source": [
    "for each_fea in factor[:-1]:\n",
    "    train[each_fea] = train[each_fea].replace(map_dict[each_fea])\n",
    "    test[each_fea] = test[each_fea].replace(map_dict[each_fea])"
   ]
  },
  {
   "cell_type": "code",
   "execution_count": 45,
   "metadata": {
    "collapsed": true
   },
   "outputs": [],
   "source": [
    "import seaborn as sns\n",
    "import matplotlib.pyplot as plt\n",
    "plt.rcParams['font.sans-serif']=['SimHei']"
   ]
  },
  {
   "cell_type": "code",
   "execution_count": 46,
   "metadata": {
    "collapsed": false
   },
   "outputs": [
    {
     "data": {
      "image/png": "[encoded data removed]",
      "text/plain": [
       "<matplotlib.figure.Figure at 0x11c9b6550>"
      ]
     },
     "metadata": {},
     "output_type": "display_data"
    }
   ],
   "source": [
    "# 斯皮尔曼相关热力图\n",
    "corrmat = train[factor].corr('spearman')\n",
    "f,ax = plt.subplots(figsize=(12,9))\n",
    "ax.set_xticklabels(corrmat,rotation='horizontal')\n",
    "sns.heatmap(np.fabs(corrmat), square=False, center=1)            # 此处取了绝对值\n",
    "label_y = ax.get_yticklabels()\n",
    "plt.setp(label_y , rotation = 360)\n",
    "label_x = ax.get_xticklabels()\n",
    "plt.setp(label_x , rotation = 90)\n",
    "plt.xlabel('变量相关性热力图')\n",
    "plt.show()"
   ]
  },
  {
   "cell_type": "code",
   "execution_count": 47,
   "metadata": {
    "collapsed": false
   },
   "outputs": [
    {
     "name": "stdout",
     "output_type": "stream",
     "text": [
      "Index(['SalePrice', 'Neighborhood', 'ExterQual', 'KitchenQual', 'BsmtQual',\n",
      "       'GarageFinish', 'Foundation'],\n",
      "      dtype='object')\n"
     ]
    }
   ],
   "source": [
    "corr = train[factor].corr()['SalePrice'].sort_values(ascending=False)\n",
    "print(corr[corr>0.5].index)"
   ]
  },
  {
   "cell_type": "code",
   "execution_count": 48,
   "metadata": {
    "collapsed": true
   },
   "outputs": [],
   "source": [
    "factor = ['Neighborhood', 'ExterQual', 'BsmtQual', 'GarageFinish', 'Foundation']  "
   ]
  },
  {
   "cell_type": "code",
   "execution_count": 49,
   "metadata": {
    "collapsed": false
   },
   "outputs": [
    {
     "data": {
      "image/png": "[encoded data removed]",
      "text/plain": [
       "<matplotlib.figure.Figure at 0x11cce8d68>"
      ]
     },
     "metadata": {},
     "output_type": "display_data"
    }
   ],
   "source": [
    "corrmat = train[numeric].corr('spearman')\n",
    "f,ax = plt.subplots(figsize=(12,9))\n",
    "ax.set_xticklabels(corrmat,rotation='horizontal')\n",
    "sns.heatmap(np.fabs(corrmat), square=False, center=1)            # 此处取了绝对值\n",
    "label_y = ax.get_yticklabels()\n",
    "plt.setp(label_y , rotation = 360)\n",
    "label_x = ax.get_xticklabels()\n",
    "plt.setp(label_x , rotation = 90)\n",
    "plt.xlabel('变量相关性热力图')\n",
    "plt.show()"
   ]
  },
  {
   "cell_type": "code",
   "execution_count": 50,
   "metadata": {
    "collapsed": false
   },
   "outputs": [
    {
     "name": "stdout",
     "output_type": "stream",
     "text": [
      "Index(['SalePrice', 'OverallQual', 'GrLivArea', 'GarageCars', 'GarageArea',\n",
      "       'TotalBsmtSF', '1stFlrSF', 'FullBath', 'TotRmsAbvGrd', 'YearBuilt',\n",
      "       'YearRemodAdd'],\n",
      "      dtype='object')\n"
     ]
    }
   ],
   "source": [
    "corr = train[numeric].corr()['SalePrice'].sort_values(ascending=False)\n",
    "print(corr[corr > 0.5].index)"
   ]
  },
  {
   "cell_type": "code",
   "execution_count": 51,
   "metadata": {
    "collapsed": true
   },
   "outputs": [],
   "source": [
    "numeric = ['OverallQual', 'GrLivArea', 'GarageCars', 'TotalBsmtSF', '1stFlrSF', 'FullBath','YearRemodAdd']"
   ]
  },
  {
   "cell_type": "code",
   "execution_count": 52,
   "metadata": {
    "collapsed": true
   },
   "outputs": [],
   "source": [
    "features = factor.copy()\n",
    "features.extend(numeric)"
   ]
  },
  {
   "cell_type": "code",
   "execution_count": 53,
   "metadata": {
    "collapsed": false
   },
   "outputs": [
    {
     "name": "stdout",
     "output_type": "stream",
     "text": [
      "['Neighborhood', 'ExterQual', 'BsmtQual', 'GarageFinish', 'Foundation', 'OverallQual', 'GrLivArea', 'GarageCars', 'TotalBsmtSF', '1stFlrSF', 'FullBath', 'YearRemodAdd']\n",
      "['Neighborhood', 'ExterQual', 'BsmtQual', 'GarageFinish', 'Foundation']\n",
      "['OverallQual', 'GrLivArea', 'GarageCars', 'TotalBsmtSF', '1stFlrSF', 'FullBath', 'YearRemodAdd']\n"
     ]
    }
   ],
   "source": [
    "print(features)\n",
    "print(factor)\n",
    "print(numeric)"
   ]
  },
  {
   "cell_type": "code",
   "execution_count": 54,
   "metadata": {
    "collapsed": true
   },
   "outputs": [],
   "source": [
    "target = train['SalePrice']\n",
    "train = train[features]\n",
    "test = test[features]"
   ]
  },
  {
   "cell_type": "code",
   "execution_count": 55,
   "metadata": {
    "collapsed": false
   },
   "outputs": [
    {
     "data": {
      "text/html": [
       "<div>\n",
       "<table border=\"1\" class=\"dataframe\">\n",
       "  <thead>\n",
       "    <tr style=\"text-align: right;\">\n",
       "      <th></th>\n",
       "      <th>Neighborhood</th>\n",
       "      <th>ExterQual</th>\n",
       "      <th>BsmtQual</th>\n",
       "      <th>GarageFinish</th>\n",
       "      <th>Foundation</th>\n",
       "      <th>OverallQual</th>\n",
       "      <th>GrLivArea</th>\n",
       "      <th>GarageCars</th>\n",
       "      <th>TotalBsmtSF</th>\n",
       "      <th>1stFlrSF</th>\n",
       "      <th>FullBath</th>\n",
       "      <th>YearRemodAdd</th>\n",
       "    </tr>\n",
       "  </thead>\n",
       "  <tbody>\n",
       "    <tr>\n",
       "      <th>0</th>\n",
       "      <td>17</td>\n",
       "      <td>3</td>\n",
       "      <td>4</td>\n",
       "      <td>3</td>\n",
       "      <td>6</td>\n",
       "      <td>7.0</td>\n",
       "      <td>1710.0</td>\n",
       "      <td>2.0</td>\n",
       "      <td>856.0</td>\n",
       "      <td>856.0</td>\n",
       "      <td>2.0</td>\n",
       "      <td>2003.0</td>\n",
       "    </tr>\n",
       "    <tr>\n",
       "      <th>1</th>\n",
       "      <td>21</td>\n",
       "      <td>2</td>\n",
       "      <td>4</td>\n",
       "      <td>3</td>\n",
       "      <td>3</td>\n",
       "      <td>6.0</td>\n",
       "      <td>1262.0</td>\n",
       "      <td>2.0</td>\n",
       "      <td>1262.0</td>\n",
       "      <td>1262.0</td>\n",
       "      <td>2.0</td>\n",
       "      <td>1976.0</td>\n",
       "    </tr>\n",
       "    <tr>\n",
       "      <th>2</th>\n",
       "      <td>17</td>\n",
       "      <td>3</td>\n",
       "      <td>4</td>\n",
       "      <td>3</td>\n",
       "      <td>6</td>\n",
       "      <td>7.0</td>\n",
       "      <td>1786.0</td>\n",
       "      <td>2.0</td>\n",
       "      <td>920.0</td>\n",
       "      <td>920.0</td>\n",
       "      <td>2.0</td>\n",
       "      <td>2002.0</td>\n",
       "    </tr>\n",
       "    <tr>\n",
       "      <th>3</th>\n",
       "      <td>18</td>\n",
       "      <td>2</td>\n",
       "      <td>3</td>\n",
       "      <td>2</td>\n",
       "      <td>2</td>\n",
       "      <td>7.0</td>\n",
       "      <td>1717.0</td>\n",
       "      <td>3.0</td>\n",
       "      <td>756.0</td>\n",
       "      <td>961.0</td>\n",
       "      <td>1.0</td>\n",
       "      <td>1970.0</td>\n",
       "    </tr>\n",
       "    <tr>\n",
       "      <th>4</th>\n",
       "      <td>25</td>\n",
       "      <td>3</td>\n",
       "      <td>4</td>\n",
       "      <td>3</td>\n",
       "      <td>6</td>\n",
       "      <td>8.0</td>\n",
       "      <td>2198.0</td>\n",
       "      <td>3.0</td>\n",
       "      <td>1145.0</td>\n",
       "      <td>1145.0</td>\n",
       "      <td>2.0</td>\n",
       "      <td>2000.0</td>\n",
       "    </tr>\n",
       "  </tbody>\n",
       "</table>\n",
       "</div>"
      ],
      "text/plain": [
       "   Neighborhood  ExterQual  BsmtQual  GarageFinish  Foundation  OverallQual  \\\n",
       "0            17          3         4             3           6          7.0   \n",
       "1            21          2         4             3           3          6.0   \n",
       "2            17          3         4             3           6          7.0   \n",
       "3            18          2         3             2           2          7.0   \n",
       "4            25          3         4             3           6          8.0   \n",
       "\n",
       "   GrLivArea  GarageCars  TotalBsmtSF  1stFlrSF  FullBath  YearRemodAdd  \n",
       "0     1710.0         2.0        856.0     856.0       2.0        2003.0  \n",
       "1     1262.0         2.0       1262.0    1262.0       2.0        1976.0  \n",
       "2     1786.0         2.0        920.0     920.0       2.0        2002.0  \n",
       "3     1717.0         3.0        756.0     961.0       1.0        1970.0  \n",
       "4     2198.0         3.0       1145.0    1145.0       2.0        2000.0  "
      ]
     },
     "execution_count": 55,
     "metadata": {},
     "output_type": "execute_result"
    }
   ],
   "source": [
    "train.head()"
   ]
  },
  {
   "cell_type": "code",
   "execution_count": 56,
   "metadata": {
    "collapsed": false
   },
   "outputs": [
    {
     "data": {
      "text/plain": [
       "RandomForestRegressor(bootstrap=True, criterion='mse', max_depth=None,\n",
       "           max_features='auto', max_leaf_nodes=None,\n",
       "           min_impurity_split=1e-07, min_samples_leaf=1,\n",
       "           min_samples_split=2, min_weight_fraction_leaf=0.0,\n",
       "           n_estimators=10, n_jobs=1, oob_score=False, random_state=None,\n",
       "           verbose=0, warm_start=False)"
      ]
     },
     "execution_count": 56,
     "metadata": {},
     "output_type": "execute_result"
    }
   ],
   "source": [
    "from sklearn.model_selection import train_test_split\n",
    "from sklearn.ensemble import RandomForestRegressor\n",
    "train_data, test_data, train_target, test_target = train_test_split(train, target, test_size=0.2, random_state=0)\n",
    "m = RandomForestRegressor()\n",
    "m.fit(train_data, train_target)\n"
   ]
  },
  {
   "cell_type": "code",
   "execution_count": 57,
   "metadata": {
    "collapsed": false
   },
   "outputs": [
    {
     "name": "stdout",
     "output_type": "stream",
     "text": [
      "0.87552810062\n"
     ]
    }
   ],
   "source": [
    "from sklearn.metrics import r2_score\n",
    "score = r2_score(test_target,m.predict(test_data))\n",
    "print(score)"
   ]
  },
  {
   "cell_type": "code",
   "execution_count": 58,
   "metadata": {
    "collapsed": false
   },
   "outputs": [
    {
     "data": {
      "text/plain": [
       "(1459,)"
      ]
     },
     "execution_count": 58,
     "metadata": {},
     "output_type": "execute_result"
    }
   ],
   "source": [
    "predict = m.predict(test)\n",
    "predict.shape"
   ]
  },
  {
   "cell_type": "code",
   "execution_count": 60,
   "metadata": {
    "collapsed": false
   },
   "outputs": [],
   "source": [
    "test = pd.read_csv('test.csv')['Id']\n",
    "sub = pd.DataFrame()\n",
    "sub['Id'] = test\n",
    "sub['SalePrice'] = pd.Series(predict)\n",
    "sub.to_csv('submission.csv', index=False)"
   ]
  },
  {
   "cell_type": "code",
   "execution_count": null,
   "metadata": {
    "collapsed": true
   },
   "outputs": [],
   "source": []
  }
 ],
 "metadata": {
  "kernelspec": {
   "display_name": "Python 3",
   "language": "python",
   "name": "python3"
  },
  "language_info": {
   "codemirror_mode": {
    "name": "ipython",
    "version": 3
   },
   "file_extension": ".py",
   "mimetype": "text/x-python",
   "name": "python",
   "nbconvert_exporter": "python",
   "pygments_lexer": "ipython3",
   "version": "3.6.0"
  }
 },
 "nbformat": 4,
 "nbformat_minor": 2
}
